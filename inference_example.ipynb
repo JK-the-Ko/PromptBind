{
 "cells": [
  {
   "cell_type": "markdown",
   "metadata": {},
   "source": [
    "# PromptBindInference Use Case Notebook"
   ]
  },
  {
   "cell_type": "markdown",
   "metadata": {},
   "source": [
    "## 1. Setup Environment"
   ]
  },
  {
   "cell_type": "code",
   "execution_count": 1,
   "metadata": {},
   "outputs": [],
   "source": [
    "import numpy as np\n",
    "import os\n",
    "import torch\n",
    "import sys\n",
    "import argparse\n",
    "import random\n",
    "from datetime import datetime\n",
    "\n",
    "from safetensors.torch import load_model\n",
    "import yaml"
   ]
  },
  {
   "cell_type": "code",
   "execution_count": 2,
   "metadata": {},
   "outputs": [
    {
     "name": "stderr",
     "output_type": "stream",
     "text": [
      "/home/kevinb/miniconda3/envs/ppi-toolkit/lib/python3.10/site-packages/tqdm/auto.py:21: TqdmWarning: IProgress not found. Please update jupyter and ipywidgets. See https://ipywidgets.readthedocs.io/en/stable/user_install.html\n",
      "  from .autonotebook import tqdm as notebook_tqdm\n"
     ]
    }
   ],
   "source": [
    "import sys\n",
    "promptbind_src = \"./promptbind\"\n",
    "sys.path.insert(0, promptbind_src)\n",
    "\n",
    "from promptbind.data.data import get_data\n",
    "from promptbind.utils.metrics import *\n",
    "from promptbind.utils.utils import *\n",
    "from promptbind.utils.logging_utils import Logger\n",
    "from promptbind.models.model import *"
   ]
  },
  {
   "cell_type": "markdown",
   "metadata": {},
   "source": [
    "## 2. Initialize Configuration"
   ]
  },
  {
   "cell_type": "code",
   "execution_count": 3,
   "metadata": {},
   "outputs": [],
   "source": [
    "data_path = \"data/pdbbind2020\"\n",
    "prompt_nf = 8\n",
    "result_folder = \"./results\"\n",
    "exp_name = f\"test_prompt_{prompt_nf}\""
   ]
  },
  {
   "cell_type": "code",
   "execution_count": 4,
   "metadata": {},
   "outputs": [],
   "source": [
    "config_path = 'options/test_args.yml'\n",
    "with open(config_path, 'r') as f:\n",
    "    args_dict = yaml.safe_load(f)\n",
    "combined_args_dict = {**args_dict['config'], **args_dict['args']}\n",
    "\n",
    "combined_args_dict['data_path'] = data_path\n",
    "combined_args_dict['pocket_prompt_nf'] = prompt_nf\n",
    "combined_args_dict['complex_prompt_nf'] = prompt_nf\n",
    "combined_args_dict['resultFolder'] = result_folder\n",
    "combined_args_dict['exp_name'] = f\"test_prompt_{prompt_nf}\"\n",
    "combined_args_dict['ckpt'] = f\"pretrained/prompt_{prompt_nf}/best/model.safetensors\"\n",
    "\n",
    "# Convert to argparse Namespace\n",
    "args = argparse.Namespace(**combined_args_dict)\n",
    "\n",
    "# Set random seed\n",
    "torch.manual_seed(args.seed)\n",
    "random.seed(args.seed)\n",
    "np.random.seed(args.seed)"
   ]
  },
  {
   "cell_type": "code",
   "execution_count": 5,
   "metadata": {},
   "outputs": [],
   "source": [
    "# import os\n",
    "# import logging\n",
    "\n",
    "# class Logger:\n",
    "#     def __init__(self, log_path):\n",
    "#         # Create a custom logger\n",
    "#         self.logger = logging.getLogger('MainLogger')\n",
    "#         self.logger.setLevel(logging.INFO)\n",
    "\n",
    "#         # Prevent adding multiple handlers if Logger is initialized multiple times\n",
    "#         if not self.logger.handlers:\n",
    "#             # Create handlers\n",
    "#             c_handler = logging.StreamHandler()\n",
    "#             f_handler = logging.FileHandler(log_path)\n",
    "\n",
    "#             # Create formatters and add them to the handlers\n",
    "#             c_format = logging.Formatter(\n",
    "#                 \"%(asctime)s - %(levelname)s - %(message)s\",\n",
    "#                 datefmt=\"%m/%d/%Y %H:%M:%S\",\n",
    "#             )\n",
    "#             f_format = logging.Formatter('%(message)s')\n",
    "\n",
    "#             c_handler.setFormatter(c_format)\n",
    "#             f_handler.setFormatter(f_format)\n",
    "\n",
    "#             # Add handlers to the logger\n",
    "#             self.logger.addHandler(c_handler)\n",
    "#             self.logger.addHandler(f_handler)\n",
    "\n",
    "#         # Log the working directory\n",
    "#         self.logger.info(f'Working directory is {os.getcwd()}')\n",
    "\n",
    "#     def log_stats(self, stats, epoch, args, prefix=''):\n",
    "#         msg_start = f'[{prefix}] Epoch {epoch} out of {args.total_epochs} | '\n",
    "#         dict_msg = ' | '.join([f'{k.capitalize()} --> {v:.5f}' for k, v in stats.items()]) + ' | '\n",
    "\n",
    "#         msg = msg_start + dict_msg\n",
    "\n",
    "#         self.log_message(msg)\n",
    "\n",
    "#     def log_message(self, msg):\n",
    "#         self.logger.info(msg)"
   ]
  },
  {
   "cell_type": "code",
   "execution_count": 5,
   "metadata": {},
   "outputs": [
    {
     "name": "stderr",
     "output_type": "stream",
     "text": [
      "10/25/2024 16:34:49 - INFO - MainLogger - Working directory is /home/kevinb/protein/PromptBind-draft\n",
      "10/25/2024 16:34:49 - INFO - MainLogger - /home/kevinb/miniconda3/envs/ppi-toolkit/lib/python3.10/site-packages/ipykernel_launcher.py --f=/home/kevinb/.local/share/jupyter/runtime/kernel-v3aef9cf15854ed1e8c07ab778e006194ae0ad6aa9.json\n"
     ]
    }
   ],
   "source": [
    "# Prepare logging directory\n",
    "pre = f\"{args.resultFolder}/{args.exp_name}\"\n",
    "os.makedirs(pre, exist_ok=True)\n",
    "\n",
    "# Initialize the logger without accelerator\n",
    "logger = Logger(accelerator=None, log_path=f'{pre}/test.log')\n",
    "\n",
    "# Log the command used to run the script\n",
    "logger.log_message(f\"{' '.join(sys.argv)}\")"
   ]
  },
  {
   "cell_type": "markdown",
   "metadata": {},
   "source": [
    "## 3. Initialize and Run Inference"
   ]
  },
  {
   "cell_type": "code",
   "execution_count": 6,
   "metadata": {},
   "outputs": [
    {
     "name": "stderr",
     "output_type": "stream",
     "text": [
      "10/25/2024 16:34:51 - INFO - MainLogger - PromptBind\n"
     ]
    },
    {
     "name": "stdout",
     "output_type": "stream",
     "text": [
      "Using device: cuda\n"
     ]
    }
   ],
   "source": [
    "device = 'cuda' if torch.cuda.is_available() else 'cpu'\n",
    "print(f\"Using device: {device}\")\n",
    "\n",
    "model = get_model(args, logger, device)\n",
    "load_model(model, args.ckpt)\n",
    "model.to(device)\n",
    "\n",
    "import torch.nn as nn\n",
    "\n",
    "if args.pred_dis:\n",
    "    criterion = nn.MSELoss()\n",
    "    pred_dis = True\n",
    "else:\n",
    "    criterion = nn.BCEWithLogitsLoss(pos_weight=torch.tensor(args.posweight).to(device))\n",
    "\n",
    "if args.coord_loss_function == 'MSE':\n",
    "    com_coord_criterion = nn.MSELoss()\n",
    "elif args.coord_loss_function == 'SmoothL1':\n",
    "    com_coord_criterion = nn.SmoothL1Loss()\n",
    "\n",
    "if args.pocket_cls_loss_func == 'bce':\n",
    "    pocket_cls_criterion = nn.BCEWithLogitsLoss(reduction='mean')\n",
    "\n",
    "pocket_coord_criterion = nn.HuberLoss(delta=args.pocket_coord_huber_delta)"
   ]
  },
  {
   "cell_type": "code",
   "execution_count": 7,
   "metadata": {},
   "outputs": [
    {
     "name": "stderr",
     "output_type": "stream",
     "text": [
      "10/25/2024 16:34:54 - INFO - MainLogger - Loading dataset\n",
      "10/25/2024 16:34:54 - INFO - MainLogger - compound feature based on torchdrug\n",
      "10/25/2024 16:34:54 - INFO - MainLogger - protein feature based on esm2\n",
      "/home/kevinb/protein/PromptBind-draft/promptbind/data/data.py:20: FutureWarning: You are using `torch.load` with `weights_only=False` (the current default value), which uses the default pickle module implicitly. It is possible to construct malicious pickle data which will execute arbitrary code during unpickling (See https://github.com/pytorch/pytorch/blob/main/SECURITY.md#untrusted-models for more details). In a future release, the default value for `weights_only` will be flipped to `True`. This limits the functions that could be executed during unpickling. Arbitrary objects will no longer be allowed to be loaded via this mode unless they are explicitly allowlisted by the user via `torch.serialization.add_safe_globals`. We recommend you start setting `weights_only=True` for any use case where you don't have full control of the loaded file. Please open an issue on GitHub for any issues related to this experimental feature.\n",
      "  self.data = torch.load(self.processed_paths[0])\n"
     ]
    },
    {
     "name": "stdout",
     "output_type": "stream",
     "text": [
      "['/home/kevinb/nas/protein/data/pdbbind2020/dataset/processed/data.pt', '/home/kevinb/nas/protein/data/pdbbind2020/dataset/processed/protein_1d_3d.lmdb', '/home/kevinb/nas/protein/data/pdbbind2020/dataset/processed/compound_LAS_edge_index.lmdb', '/home/kevinb/nas/protein/data/pdbbind2020/dataset/processed/compound_rdkit_coords.pt', '/home/kevinb/nas/protein/data/pdbbind2020/dataset/processed/esm2_t33_650M_UR50D.lmdb']\n"
     ]
    },
    {
     "name": "stderr",
     "output_type": "stream",
     "text": [
      "/home/kevinb/protein/PromptBind-draft/promptbind/data/data.py:21: FutureWarning: You are using `torch.load` with `weights_only=False` (the current default value), which uses the default pickle module implicitly. It is possible to construct malicious pickle data which will execute arbitrary code during unpickling (See https://github.com/pytorch/pytorch/blob/main/SECURITY.md#untrusted-models for more details). In a future release, the default value for `weights_only` will be flipped to `True`. This limits the functions that could be executed during unpickling. Arbitrary objects will no longer be allowed to be loaded via this mode unless they are explicitly allowlisted by the user via `torch.serialization.add_safe_globals`. We recommend you start setting `weights_only=True` for any use case where you don't have full control of the loaded file. Please open an issue on GitHub for any issues related to this experimental feature.\n",
      "  self.compound_rdkit_coords = torch.load(self.processed_paths[3])\n",
      "10/25/2024 16:34:55 - INFO - MainLogger - Data points - Train: 17299, Valid: 968, Test: 363\n"
     ]
    }
   ],
   "source": [
    "if args.redocking:\n",
    "    args.compound_coords_init_mode = \"redocking\"\n",
    "elif args.redocking_no_rotate:\n",
    "    args.redocking = True\n",
    "    args.compound_coords_init_mode = \"redocking_no_rotate\"\n",
    "\n",
    "train, valid, test = get_data(\n",
    "    args,\n",
    "    logger,\n",
    "    addNoise=args.addNoise,\n",
    "    use_whole_protein=args.use_whole_protein,\n",
    "    compound_coords_init_mode=args.compound_coords_init_mode,\n",
    "    pre=args.data_path,\n",
    ")\n",
    "logger.log_message(\n",
    "    f\"Data points - Train: {len(train)}, Valid: {len(valid)}, Test: {len(test)}\"\n",
    ")\n",
    "\n",
    "num_workers = 0\n",
    "\n",
    "from torch_geometric.loader import DataLoader\n",
    "\n",
    "test_loader = DataLoader(\n",
    "    test,\n",
    "    batch_size=args.batch_size,\n",
    "    follow_batch=['x', 'compound_pair'],\n",
    "    shuffle=False,\n",
    "    pin_memory=False,\n",
    "    num_workers=num_workers,\n",
    ")\n",
    "\n",
    "with open('split_pdb_id/unseen_test_index') as f:\n",
    "    test_unseen_pdb_list = [line.strip() for line in f]\n",
    "\n",
    "test_unseen_index = test.data.query(\n",
    "    \"(group =='test') and (pdb in @test_unseen_pdb_list)\"\n",
    ").index.values\n",
    "test_unseen_index_for_select = np.array(\n",
    "    [np.where(test._indices == i)[0][0] for i in test_unseen_index]\n",
    ")\n",
    "test_unseen = test.index_select(test_unseen_index_for_select)\n",
    "\n",
    "test_unseen_loader = DataLoader(\n",
    "    test_unseen,\n",
    "    batch_size=args.batch_size,\n",
    "    follow_batch=['x', 'compound_pair'],\n",
    "    shuffle=False,\n",
    "    pin_memory=False,\n",
    "    num_workers=num_workers,\n",
    ")"
   ]
  },
  {
   "cell_type": "code",
   "execution_count": 8,
   "metadata": {},
   "outputs": [
    {
     "name": "stderr",
     "output_type": "stream",
     "text": [
      "10/25/2024 16:34:59 - INFO - MainLogger - Begin testing\n",
      "100%|██████████| 36/36 [02:46<00:00,  4.63s/it]\n",
      "10/25/2024 16:37:46 - INFO - MainLogger - [Test_unseen] Epoch 0 out of 400 | Samples --> 144.00000 | Skip_samples --> 1.00000 | Keepnode < 5 --> 0.00000 | Contact_loss --> 1.13186 | Contact_by_pred_loss --> 1.19398 | Com_coord_huber_loss --> 4.27379 | Rmsd --> 7.95665 | Rmsd < 2a --> 0.21528 | Rmsd < 5a --> 0.57639 | Rmsd 25% --> 2.12651 | Rmsd 50% --> 3.74071 | Rmsd 75% --> 9.29415 | Centroid_dis --> 6.21516 | Centroid_dis < 2a --> 0.54167 | Centroid_dis < 5a --> 0.74306 | Centroid_dis 25% --> 0.98511 | Centroid_dis 50% --> 1.66359 | Centroid_dis 75% --> 5.20561 | Pocket_cls_bce_loss --> 0.57726 | Pocket_coord_mse_loss --> 0.45735 | Pocket_cls_accuracy --> 0.82094 | Pocket_pearson --> 0.65176 | Pocket_rmse --> 7.00585 | Pocket_mae --> 4.20523 | Pocket_center_avg_dist --> 8.34821 | Pocket_center_dcc --> 34.72222 | \n"
     ]
    }
   ],
   "source": [
    "model.eval()\n",
    "logger.log_message(\"Begin testing\")\n",
    "metrics, _, _ = evaluate_mean_pocket_cls_coord_multi_task(\n",
    "    accelerator=None,\n",
    "    args=args,\n",
    "    data_loader=test_unseen_loader,\n",
    "    model=model,\n",
    "    com_coord_criterion=com_coord_criterion,\n",
    "    criterion=criterion,\n",
    "    pocket_cls_criterion=pocket_cls_criterion,\n",
    "    pocket_coord_criterion=pocket_coord_criterion,\n",
    "    relative_k=args.relative_k,\n",
    "    device=device,\n",
    "    pred_dis=args.pred_dis,\n",
    "    use_y_mask=False,\n",
    "    stage=2\n",
    ")\n",
    "\n",
    "logger.log_stats(metrics, 0, args, prefix=\"Test_unseen\")"
   ]
  }
 ],
 "metadata": {
  "kernelspec": {
   "display_name": "ppi-toolkit",
   "language": "python",
   "name": "python3"
  },
  "language_info": {
   "codemirror_mode": {
    "name": "ipython",
    "version": 3
   },
   "file_extension": ".py",
   "mimetype": "text/x-python",
   "name": "python",
   "nbconvert_exporter": "python",
   "pygments_lexer": "ipython3",
   "version": "3.10.14"
  }
 },
 "nbformat": 4,
 "nbformat_minor": 2
}
